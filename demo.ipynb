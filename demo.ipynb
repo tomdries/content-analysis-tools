{
 "cells": [
  {
   "attachments": {
    "47fcf102-fe37-4e00-8693-c026024857db.png": {
     "image/png": "[encoded data removed]"
    }
   },
   "cell_type": "markdown",
   "id": "f6aa0d05-c8b8-4b26-962e-f033192cd5c7",
   "metadata": {},
   "source": [
    "# Demonstration of content_analysis_tools.py\n",
    "Say we have the following tagged transcript:\n",
    ">P1: I think what's bad about the current exam is that we do not have enough time, and that examiners can individually differ in their judgment #weak-aspect.time.subjectivity{this relates to previous work by blabla..}\n",
    ">\n",
    ">P2: I think it's good that we look at the overall performance of candidates, but I think the exam duration is too short. #strong-aspect.overall-image #weak-aspect.time\n",
    ">\n",
    ">P2: I would like to have eye trackers so we know what the participants are looking at. #suggestion.gaze-recordings\n",
    ">\n",
    ">P3: I would like to have eye trackers and video data #suggestion.gaze-recordings.video\n",
    ">\n",
    ">P3: Again I want to emphasize that I could really use video data #suggestion.video\n",
    "\n",
    "## Finding tags and storing them in a dataframe\n",
    "We want to create a dataframe containing the tag stems (for example #weak-aspect), the suffixes (for example .time), and the comments {between curly brackets}.\n",
    "\n",
    "To achieve this, we use the following regular expression:\n",
    "\n",
    "`(#[\\w|\\-]+)(\\.[\\w|\\-|.]+)?({[^}]+})?`\n",
    "\n",
    "For an interactive demonstration of this regular expression, see https://regex101.com/r/WvrPav/3\n",
    "\n",
    "A schematic of the expression created using https://www.debuggex.com/:\n",
    "\n",
    "![image.png](attachment:47fcf102-fe37-4e00-8693-c026024857db.png)\n",
    "\n",
    "\n",
    "* group 1 = tag stem, for example #weak-aspect\n",
    "* group 2 = suffixes, for example .time.subjectivity\n",
    "* group 3 = comments, for example {this examiner gives elaborate answers}\n",
    "\n",
    "## Who said what\n",
    "Also, we want to know which participant the tag belongs to. We do this by searching the text backwards, starting from the tag, until we encounter a participant number. We assume participant numbers are denoted with the following pattern: `P(\\d+):`, for example, the string `P11:` should be captured.\n"
   ]
  },
  {
   "cell_type": "markdown",
   "id": "8967d0f1-4e19-49dd-83ab-c8ff3c87360a",
   "metadata": {},
   "source": [
    "## Demonstration\n",
    "\n",
    "For the code, see `content_analysis_tools.py`\n",
    "\n",
    "As a demonstration, I load a mockup interview below:\n",
    "\n"
   ]
  },
  {
   "cell_type": "code",
   "execution_count": 10,
   "id": "31aa6a53-687d-42b2-ad21-62f320ae1872",
   "metadata": {},
   "outputs": [],
   "source": [
    "from content_analysis_tools import Content\n",
    "\n",
    "interview_path = 'demo-interview.docx'\n",
    "\n",
    "interview = Content(interview_path) # alternatively, a string can be loaded directly (instead of a docx path). "
   ]
  },
  {
   "cell_type": "markdown",
   "id": "17647771-7639-48bf-a2fb-e039e5e742b0",
   "metadata": {},
   "source": [
    "The document is converted to a string, which is stored in the instance `Content.text`"
   ]
  },
  {
   "cell_type": "code",
   "execution_count": 2,
   "id": "d998bb03-1780-458f-b2b4-44f95e8c7883",
   "metadata": {},
   "outputs": [
    {
     "name": "stdout",
     "output_type": "stream",
     "text": [
      "P1: I think what's bad about the current exam is that we do not have enough time, and that examiners can individually differ in their judgment #weak-aspect.time.subjectivity{this is a nice quote}\n",
      "P2: I think it's good that we look at the overall performance of candidates, but I think the exam duration is too short. #strong-aspect.overall-image #weak-aspect.time\n",
      "P2: I would like to have eye trackers so we know what the participants are looking at. #suggestion.gaze-recordings\n",
      "P3: I would like to have eye trackers and video data #suggestion.gaze-recordings.video\n",
      "P3: Again I want to emphasize that I could really use video data #suggestion.video\n",
      "\n"
     ]
    }
   ],
   "source": [
    "print(interview.text)"
   ]
  },
  {
   "cell_type": "markdown",
   "id": "d263c20f-5a1c-42fe-a1c7-f0ce8c1d3066",
   "metadata": {},
   "source": [
    "The interview is read and tags were extracted automatically. The dataframe with all tags can be accessed as follows"
   ]
  },
  {
   "cell_type": "code",
   "execution_count": 3,
   "id": "c0f58a25-7da3-43f7-b5bc-c81aae4a884a",
   "metadata": {},
   "outputs": [
    {
     "data": {
      "text/html": [
       "<div>\n",
       "<style scoped>\n",
       "    .dataframe tbody tr th:only-of-type {\n",
       "        vertical-align: middle;\n",
       "    }\n",
       "\n",
       "    .dataframe tbody tr th {\n",
       "        vertical-align: top;\n",
       "    }\n",
       "\n",
       "    .dataframe thead th {\n",
       "        text-align: right;\n",
       "    }\n",
       "</style>\n",
       "<table border=\"1\" class=\"dataframe\">\n",
       "  <thead>\n",
       "    <tr style=\"text-align: right;\">\n",
       "      <th></th>\n",
       "      <th>stem</th>\n",
       "      <th>suffixes</th>\n",
       "      <th>comments</th>\n",
       "      <th>participant</th>\n",
       "    </tr>\n",
       "  </thead>\n",
       "  <tbody>\n",
       "    <tr>\n",
       "      <th>0</th>\n",
       "      <td>#weak-aspect</td>\n",
       "      <td>[time, subjectivity]</td>\n",
       "      <td>{this is a nice quote}</td>\n",
       "      <td>1</td>\n",
       "    </tr>\n",
       "    <tr>\n",
       "      <th>1</th>\n",
       "      <td>#strong-aspect</td>\n",
       "      <td>[overall-image]</td>\n",
       "      <td></td>\n",
       "      <td>2</td>\n",
       "    </tr>\n",
       "    <tr>\n",
       "      <th>2</th>\n",
       "      <td>#weak-aspect</td>\n",
       "      <td>[time]</td>\n",
       "      <td></td>\n",
       "      <td>2</td>\n",
       "    </tr>\n",
       "    <tr>\n",
       "      <th>3</th>\n",
       "      <td>#suggestion</td>\n",
       "      <td>[gaze-recordings]</td>\n",
       "      <td></td>\n",
       "      <td>2</td>\n",
       "    </tr>\n",
       "    <tr>\n",
       "      <th>4</th>\n",
       "      <td>#suggestion</td>\n",
       "      <td>[gaze-recordings, video]</td>\n",
       "      <td></td>\n",
       "      <td>3</td>\n",
       "    </tr>\n",
       "    <tr>\n",
       "      <th>5</th>\n",
       "      <td>#suggestion</td>\n",
       "      <td>[video]</td>\n",
       "      <td></td>\n",
       "      <td>3</td>\n",
       "    </tr>\n",
       "  </tbody>\n",
       "</table>\n",
       "</div>"
      ],
      "text/plain": [
       "             stem                  suffixes                comments  \\\n",
       "0    #weak-aspect      [time, subjectivity]  {this is a nice quote}   \n",
       "1  #strong-aspect           [overall-image]                           \n",
       "2    #weak-aspect                    [time]                           \n",
       "3     #suggestion         [gaze-recordings]                           \n",
       "4     #suggestion  [gaze-recordings, video]                           \n",
       "5     #suggestion                   [video]                           \n",
       "\n",
       "   participant  \n",
       "0            1  \n",
       "1            2  \n",
       "2            2  \n",
       "3            2  \n",
       "4            3  \n",
       "5            3  "
      ]
     },
     "execution_count": 3,
     "metadata": {},
     "output_type": "execute_result"
    }
   ],
   "source": [
    "interview.data"
   ]
  },
  {
   "cell_type": "markdown",
   "id": "d05bed42-bffa-4eb4-b887-1011b9e0cc73",
   "metadata": {},
   "source": [
    "We can count the stems, and how many participants mentioned this stem (avoiding counting participants twice, if they raised the same topic twice), and which participant first mentioned this tag. "
   ]
  },
  {
   "cell_type": "code",
   "execution_count": 4,
   "id": "790ddc68-5b82-4344-93e3-e4a57eb600fb",
   "metadata": {},
   "outputs": [
    {
     "data": {
      "text/html": [
       "<div>\n",
       "<style scoped>\n",
       "    .dataframe tbody tr th:only-of-type {\n",
       "        vertical-align: middle;\n",
       "    }\n",
       "\n",
       "    .dataframe tbody tr th {\n",
       "        vertical-align: top;\n",
       "    }\n",
       "\n",
       "    .dataframe thead th {\n",
       "        text-align: right;\n",
       "    }\n",
       "</style>\n",
       "<table border=\"1\" class=\"dataframe\">\n",
       "  <thead>\n",
       "    <tr style=\"text-align: right;\">\n",
       "      <th></th>\n",
       "      <th>stem count</th>\n",
       "      <th>stem count unique</th>\n",
       "      <th>first occurence</th>\n",
       "    </tr>\n",
       "  </thead>\n",
       "  <tbody>\n",
       "    <tr>\n",
       "      <th>#suggestion</th>\n",
       "      <td>3</td>\n",
       "      <td>2</td>\n",
       "      <td>2</td>\n",
       "    </tr>\n",
       "    <tr>\n",
       "      <th>#weak-aspect</th>\n",
       "      <td>2</td>\n",
       "      <td>2</td>\n",
       "      <td>1</td>\n",
       "    </tr>\n",
       "    <tr>\n",
       "      <th>#strong-aspect</th>\n",
       "      <td>1</td>\n",
       "      <td>1</td>\n",
       "      <td>2</td>\n",
       "    </tr>\n",
       "  </tbody>\n",
       "</table>\n",
       "</div>"
      ],
      "text/plain": [
       "                stem count  stem count unique  first occurence\n",
       "#suggestion              3                  2                2\n",
       "#weak-aspect             2                  2                1\n",
       "#strong-aspect           1                  1                2"
      ]
     },
     "execution_count": 4,
     "metadata": {},
     "output_type": "execute_result"
    }
   ],
   "source": [
    "interview.count_stems()"
   ]
  },
  {
   "cell_type": "markdown",
   "id": "b28321a2-320f-4674-b490-a51597fa17ba",
   "metadata": {},
   "source": [
    "And if we specify a tag stem, we can count the suffixes that belong to this stem"
   ]
  },
  {
   "cell_type": "code",
   "execution_count": 5,
   "id": "95dfa8f9-e6d2-41d2-aa12-a30b5a425b6f",
   "metadata": {},
   "outputs": [
    {
     "data": {
      "text/plain": [
       "overall-image    1\n",
       "Name: counted values, dtype: int64"
      ]
     },
     "execution_count": 5,
     "metadata": {},
     "output_type": "execute_result"
    }
   ],
   "source": [
    "interview.count_suffixes(\"#strong-aspect\")"
   ]
  },
  {
   "cell_type": "code",
   "execution_count": 6,
   "id": "d987e93b-485b-4e80-ac1e-194ba5bf2c65",
   "metadata": {},
   "outputs": [
    {
     "data": {
      "text/plain": [
       "time            2\n",
       "subjectivity    1\n",
       "Name: counted values, dtype: int64"
      ]
     },
     "execution_count": 6,
     "metadata": {},
     "output_type": "execute_result"
    }
   ],
   "source": [
    "interview.count_suffixes(\"#weak-aspect\")"
   ]
  },
  {
   "cell_type": "code",
   "execution_count": 7,
   "id": "f73a2604-3f9b-4a82-b7f0-7aa600f319a5",
   "metadata": {},
   "outputs": [
    {
     "data": {
      "text/plain": [
       "gaze-recordings    2\n",
       "video              1\n",
       "Name: counted values, dtype: int64"
      ]
     },
     "execution_count": 7,
     "metadata": {},
     "output_type": "execute_result"
    }
   ],
   "source": [
    "interview.count_suffixes(\"#suggestion\")"
   ]
  },
  {
   "cell_type": "markdown",
   "id": "21a99a3c-3c76-47ad-922f-72c69585334b",
   "metadata": {},
   "source": [
    "By default, `count_suffixes` avoids double counting suffixes that were raised twice by the same participant. This can be disabled by passing the argument `avoid_double_counting = False`. In our example, P3 mentioned twice that video recordings are preferred. Note this second mention was ignored in the example above."
   ]
  },
  {
   "cell_type": "code",
   "execution_count": 8,
   "id": "651563c9-b9d1-48e0-b1a8-e569ac9f9128",
   "metadata": {},
   "outputs": [
    {
     "data": {
      "text/plain": [
       "video              2\n",
       "gaze-recordings    2\n",
       "Name: counted values, dtype: int64"
      ]
     },
     "execution_count": 8,
     "metadata": {},
     "output_type": "execute_result"
    }
   ],
   "source": [
    "interview.count_suffixes(\"#suggestion\", avoid_double_counting=False)"
   ]
  },
  {
   "cell_type": "code",
   "execution_count": null,
   "id": "1d4f211d-3907-4ccb-a861-b5c271451676",
   "metadata": {},
   "outputs": [],
   "source": []
  },
  {
   "cell_type": "code",
   "execution_count": null,
   "id": "2375314f-efda-4dff-8dfc-f47f416c3b65",
   "metadata": {},
   "outputs": [],
   "source": []
  }
 ],
 "metadata": {
  "kernelspec": {
   "display_name": "Python 3",
   "language": "python",
   "name": "python3"
  },
  "language_info": {
   "codemirror_mode": {
    "name": "ipython",
    "version": 3
   },
   "file_extension": ".py",
   "mimetype": "text/x-python",
   "name": "python",
   "nbconvert_exporter": "python",
   "pygments_lexer": "ipython3",
   "version": "3.8.6"
  }
 },
 "nbformat": 4,
 "nbformat_minor": 5
}
